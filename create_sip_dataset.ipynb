{
 "cells": [
  {
   "cell_type": "code",
   "execution_count": 1,
   "metadata": {},
   "outputs": [],
   "source": [
    "from types import SimpleNamespace\n",
    "import torch\n",
    "import os\n",
    "import json\n",
    "from torchvision import transforms\n",
    "from polyvore_outfits import TripletImageLoader\n",
    "from itertools import chain\n",
    "\n",
    "gpu = 1\n",
    "\n",
    "global args\n",
    "args = SimpleNamespace(\n",
    "    batch_size = 256,\n",
    "    seed = 1,\n",
    "    cuda = torch.device(f\"cuda:{gpu}\"),\n",
    "    dim_embed = 64,\n",
    "    use_fc = False,\n",
    "    datadir=\"/home/fteotini/thesis\",\n",
    "    margin=0.3,\n",
    "    resume=\"/home/fteotini/thesis/type_aware/runs/Type_Specific_Fashion_Compatibility/model_best.pth.tar\",\n",
    "    polyvore_split=\"nondisjoint\",\n",
    "    rand_typespaces=False,\n",
    "    num_rand_embed=4\n",
    ")\n",
    "\n",
    "torch.manual_seed(args.seed)\n",
    "torch.cuda.manual_seed(args.seed)"
   ]
  },
  {
   "cell_type": "code",
   "execution_count": 2,
   "metadata": {},
   "outputs": [],
   "source": [
    "from collections import deque\n",
    "def ground_truth(outfit):\n",
    "    l=deque(outfit)\n",
    "    l.rotate(-1)\n",
    "    return list(l)"
   ]
  },
  {
   "cell_type": "code",
   "execution_count": 3,
   "metadata": {},
   "outputs": [],
   "source": [
    "fn = os.path.join(args.datadir, \"polyvore_outfits\", \"polyvore_item_metadata.json\")\n",
    "with open(fn, \"r\") as fn_file:\n",
    "    meta_data = json.load(fn_file)\n",
    "\n",
    "transform = transforms.Compose([\n",
    "    transforms.Resize(112),\n",
    "    transforms.CenterCrop(112),\n",
    "    transforms.ToTensor(),\n",
    "    transforms.Normalize(mean=[0.485, 0.456, 0.406], std=[0.229, 0.224, 0.225])\n",
    "])\n",
    "\n",
    "dataset = TripletImageLoader(\n",
    "    args,\n",
    "    \"test\",\n",
    "    meta_data,\n",
    "    transform=transform\n",
    ")"
   ]
  },
  {
   "cell_type": "code",
   "execution_count": 4,
   "metadata": {},
   "outputs": [],
   "source": [
    "from collections import defaultdict\n",
    "\n",
    "type2im = defaultdict(list)\n",
    "for im, type in dataset.im2type.items():\n",
    "    type2im[type].append(im)"
   ]
  },
  {
   "cell_type": "code",
   "execution_count": 5,
   "metadata": {},
   "outputs": [],
   "source": [
    "def sample_same_cat_neg(outfit):\n",
    "    items = torch.as_tensor(list(map(lambda x : int(x),outfit[\"src\"])))\n",
    "    gr_types = [dataset.im2type[i] for i in outfit['ground_truth']]\n",
    "    cat_neg = []\n",
    "    for gr_type in gr_types:\n",
    "        cand = torch.as_tensor(list(map(lambda x : int(x),type2im[gr_type])))\n",
    "        prob = torch.ones(len(cand)).float()\n",
    "        prob[torch.isin(cand,items)] = 0\n",
    "        ids = torch.multinomial(prob,3)\n",
    "        cat_neg.append(list(map(lambda x: str(x),cand[ids].tolist())))\n",
    "\n",
    "    return cat_neg"
   ]
  },
  {
   "cell_type": "code",
   "execution_count": 6,
   "metadata": {},
   "outputs": [],
   "source": [
    "def sample_neg(outfit):\n",
    "    items_id = torch.as_tensor([dataset.im2index[i] for i in outfit[\"src\"]])\n",
    "    cand = torch.as_tensor(list(dataset.im2index.values()))\n",
    "    prob = torch.ones(len(cand)).float()\n",
    "    prob[items_id] = 0\n",
    "    idx = torch.multinomial(prob, len(items_id)*5).view(-1,5)\n",
    "    values = torch.as_tensor(list(map(lambda x : int(x),dataset.im2index.keys())))[cand[idx]]\n",
    "    return list(map(lambda x: list(map(lambda y: str(y),x)),values.tolist()))"
   ]
  },
  {
   "cell_type": "code",
   "execution_count": 7,
   "metadata": {},
   "outputs": [],
   "source": [
    "rootdir = os.path.join(args.datadir, \"polyvore_outfits\", args.polyvore_split)\n",
    "with open(os.path.join(rootdir, \"%s.json\" % 'test'), \"r\") as data_json:\n",
    "    outfit_data = json.load(data_json)"
   ]
  },
  {
   "cell_type": "code",
   "execution_count": 8,
   "metadata": {},
   "outputs": [],
   "source": [
    "outfits = [list(map(lambda x: x['item_id'], i['items'])) for i in outfit_data]\n",
    "outfits = [{\n",
    "    'src': o,\n",
    "    'ground_truth': ground_truth(o)\n",
    "} for o in outfits]\n",
    "outfits = [{**o, 'negs': [list(chain(*l)) for l in zip(sample_same_cat_neg(o),sample_neg(o))]} for o in outfits]"
   ]
  },
  {
   "cell_type": "code",
   "execution_count": 9,
   "metadata": {},
   "outputs": [],
   "source": [
    "import pickle\n",
    "\n",
    "with open(\"sip_data_nondisjoint.pkl\",'wb') as f:\n",
    "    pickle.dump(outfits,f,pickle.HIGHEST_PROTOCOL)"
   ]
  }
 ],
 "metadata": {
  "interpreter": {
   "hash": "bb61270c69d91d50b5595a74afe2d760b8951df331f0569e5bbc2b8b14eb2a00"
  },
  "kernelspec": {
   "display_name": "Python 3.8.12 64-bit ('type_aware': conda)",
   "language": "python",
   "name": "python3"
  },
  "language_info": {
   "codemirror_mode": {
    "name": "ipython",
    "version": 3
   },
   "file_extension": ".py",
   "mimetype": "text/x-python",
   "name": "python",
   "nbconvert_exporter": "python",
   "pygments_lexer": "ipython3",
   "version": "3.8.12"
  },
  "orig_nbformat": 4
 },
 "nbformat": 4,
 "nbformat_minor": 2
}
